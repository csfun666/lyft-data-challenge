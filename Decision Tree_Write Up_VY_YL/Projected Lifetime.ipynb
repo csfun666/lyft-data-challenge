{
 "cells": [
  {
   "cell_type": "code",
   "execution_count": 62,
   "metadata": {},
   "outputs": [],
   "source": [
    "import pandas as pd\n",
    "import matplotlib.pyplot as plt\n",
    "import random\n",
    "import numpy as np\n",
    "import os"
   ]
  },
  {
   "cell_type": "code",
   "execution_count": 5,
   "metadata": {},
   "outputs": [],
   "source": [
    "drivers = pd.read_csv(\"data/driver_ids.csv\")"
   ]
  },
  {
   "cell_type": "code",
   "execution_count": 6,
   "metadata": {},
   "outputs": [
    {
     "data": {
      "text/html": [
       "<div>\n",
       "<style scoped>\n",
       "    .dataframe tbody tr th:only-of-type {\n",
       "        vertical-align: middle;\n",
       "    }\n",
       "\n",
       "    .dataframe tbody tr th {\n",
       "        vertical-align: top;\n",
       "    }\n",
       "\n",
       "    .dataframe thead th {\n",
       "        text-align: right;\n",
       "    }\n",
       "</style>\n",
       "<table border=\"1\" class=\"dataframe\">\n",
       "  <thead>\n",
       "    <tr style=\"text-align: right;\">\n",
       "      <th></th>\n",
       "      <th>driver_id</th>\n",
       "      <th>driver_onboard_date</th>\n",
       "    </tr>\n",
       "  </thead>\n",
       "  <tbody>\n",
       "    <tr>\n",
       "      <th>0</th>\n",
       "      <td>002be0ffdc997bd5c50703158b7c2491</td>\n",
       "      <td>2016-03-29 00:00:00</td>\n",
       "    </tr>\n",
       "    <tr>\n",
       "      <th>1</th>\n",
       "      <td>007f0389f9c7b03ef97098422f902e62</td>\n",
       "      <td>2016-03-29 00:00:00</td>\n",
       "    </tr>\n",
       "    <tr>\n",
       "      <th>2</th>\n",
       "      <td>011e5c5dfc5c2c92501b8b24d47509bc</td>\n",
       "      <td>2016-04-05 00:00:00</td>\n",
       "    </tr>\n",
       "    <tr>\n",
       "      <th>3</th>\n",
       "      <td>0152a2f305e71d26cc964f8d4411add9</td>\n",
       "      <td>2016-04-23 00:00:00</td>\n",
       "    </tr>\n",
       "    <tr>\n",
       "      <th>4</th>\n",
       "      <td>01674381af7edd264113d4e6ed55ecda</td>\n",
       "      <td>2016-04-29 00:00:00</td>\n",
       "    </tr>\n",
       "  </tbody>\n",
       "</table>\n",
       "</div>"
      ],
      "text/plain": [
       "                          driver_id  driver_onboard_date\n",
       "0  002be0ffdc997bd5c50703158b7c2491  2016-03-29 00:00:00\n",
       "1  007f0389f9c7b03ef97098422f902e62  2016-03-29 00:00:00\n",
       "2  011e5c5dfc5c2c92501b8b24d47509bc  2016-04-05 00:00:00\n",
       "3  0152a2f305e71d26cc964f8d4411add9  2016-04-23 00:00:00\n",
       "4  01674381af7edd264113d4e6ed55ecda  2016-04-29 00:00:00"
      ]
     },
     "execution_count": 6,
     "metadata": {},
     "output_type": "execute_result"
    }
   ],
   "source": [
    "drivers.head()"
   ]
  },
  {
   "cell_type": "code",
   "execution_count": 7,
   "metadata": {},
   "outputs": [],
   "source": [
    "drivers = drivers[\"driver_id\"].tolist()"
   ]
  },
  {
   "cell_type": "code",
   "execution_count": 8,
   "metadata": {},
   "outputs": [
    {
     "data": {
      "text/plain": [
       "937"
      ]
     },
     "execution_count": 8,
     "metadata": {},
     "output_type": "execute_result"
    }
   ],
   "source": [
    "len(drivers)"
   ]
  },
  {
   "cell_type": "code",
   "execution_count": 64,
   "metadata": {},
   "outputs": [],
   "source": [
    "drivers = []\n",
    "for i in sorted(os.listdir('./driver')):\n",
    "    drivers.append(i)"
   ]
  },
  {
   "cell_type": "code",
   "execution_count": 71,
   "metadata": {},
   "outputs": [],
   "source": [
    "def graph_multi_driver(id_list):\n",
    "    # gca stands for 'get current axis'\n",
    "    ax = plt.gca()\n",
    "\n",
    "    for i in id_list:\n",
    "        path = \"./driver/\" + i\n",
    "        driver = pd.read_csv(path)\n",
    "        driver = driver.drop(['Unnamed: 0'], axis=1)\n",
    "        \n",
    "        driver[\"start\"] = \"2016-03-28 00:00:00\"\n",
    "        driver[\"date\"] = pd.to_datetime(driver[\"date\"])\n",
    "        driver[\"start\"] = pd.to_datetime(driver[\"start\"])\n",
    "        driver['diff'] = driver['date'] - driver['start']\n",
    "        driver[\"diff\"] = driver[\"diff\"].dt.days\n",
    "        driver = driver.sort_values(by=\"diff\")\n",
    "        \n",
    "#         print(driver.head())\n",
    "        \n",
    "#         driver.plot(kind='line',x='diff',y='number of ride',ax=ax)\n",
    "        driver.plot(kind='scatter',x='diff',y='number of ride',ax=ax)\n",
    "    plt.show()"
   ]
  },
  {
   "cell_type": "code",
   "execution_count": 97,
   "metadata": {},
   "outputs": [],
   "source": [
    "def projected_lifetime(id_list):\n",
    "    time = []\n",
    "    for i in id_list:\n",
    "        path = \"./driver/\" + i\n",
    "        driver = pd.read_csv(path)\n",
    "        driver = driver.drop(['Unnamed: 0'], axis=1)\n",
    "        driver[\"start\"] = \"2016-03-28 00:00:00\"\n",
    "        driver[\"date\"] = pd.to_datetime(driver[\"date\"])\n",
    "        driver[\"start\"] = pd.to_datetime(driver[\"start\"])\n",
    "        driver['diff'] = driver['date'] - driver['start']\n",
    "        driver[\"diff\"] = driver[\"diff\"].dt.days\n",
    "        driver = driver.sort_values(by=\"diff\")\n",
    "        coe = np.linalg.lstsq(np.vstack([driver[\"diff\"], np.ones(len(driver[\"diff\"]))]).T, driver[\"fare\"])\n",
    "        a, b = coe[0]\n",
    "        x = -b/a\n",
    "        time.append(x)\n",
    "    return time"
   ]
  },
  {
   "cell_type": "code",
   "execution_count": 98,
   "metadata": {},
   "outputs": [],
   "source": [
    "random.shuffle(drivers)"
   ]
  },
  {
   "cell_type": "code",
   "execution_count": 99,
   "metadata": {
    "scrolled": true
   },
   "outputs": [
    {
     "data": {
      "text/plain": [
       "384.2367879413483"
      ]
     },
     "execution_count": 99,
     "metadata": {},
     "output_type": "execute_result"
    }
   ],
   "source": [
    "np.warnings.filterwarnings('ignore')\n",
    "project_days = projected_lifetime(drivers)\n",
    "positive_days = [i for i in project_days if i > 0]\n",
    "result = sum(positive_days) / len(positive_days)\n",
    "result\n",
    "# graph_multi_driver(drivers[15:16])"
   ]
  },
  {
   "cell_type": "code",
   "execution_count": null,
   "metadata": {},
   "outputs": [],
   "source": []
  }
 ],
 "metadata": {
  "kernelspec": {
   "display_name": "Python 3",
   "language": "python",
   "name": "python3"
  },
  "language_info": {
   "codemirror_mode": {
    "name": "ipython",
    "version": 3
   },
   "file_extension": ".py",
   "mimetype": "text/x-python",
   "name": "python",
   "nbconvert_exporter": "python",
   "pygments_lexer": "ipython3",
   "version": "3.7.1"
  }
 },
 "nbformat": 4,
 "nbformat_minor": 2
}
